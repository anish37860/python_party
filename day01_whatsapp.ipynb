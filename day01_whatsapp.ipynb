{
 "cells": [
  {
   "cell_type": "markdown",
   "id": "46b39cee",
   "metadata": {},
   "source": [
    "Home page of Python Summer Party: [Link](https://www.interviewmaster.ai/python-party/home)\n",
    "\n",
    "Python Party Day1: WhatsApp group size engagement analysis [Link_to_problem](https://www.interviewmaster.ai/chat/7ae6f797-2b7c-4274-b03d-f077e9f79843)\n",
    "\n",
    "Easy problem ⭐\n",
    "\n",
    "Tables\n",
    "\n",
    "`dim_groups(group_id, created_date, participant_count, total_messages)`"
   ]
  },
  {
   "cell_type": "markdown",
   "id": "69ee4a4b",
   "metadata": {},
   "source": [
    "#### Data"
   ]
  },
  {
   "cell_type": "code",
   "execution_count": 4,
   "id": "f1d1a32f",
   "metadata": {},
   "outputs": [],
   "source": [
    "import pandas as pd\n",
    "import numpy as np\n",
    "\n",
    "data = {\n",
    "    'group_id': [1, 2, 3, 4, 5, 6, 7, 8, 9, 10, 11, 12],\n",
    "    'created_date': [\n",
    "        '2024-10-01', '2024-10-10', '2024-11-05', '2024-10-15', '2024-12-01',\n",
    "        '2024-10-20', '2024-10-25', '2024-11-10', '2024-10-30', '2024-12-15',\n",
    "        '2024-10-05', '2024-10-12'\n",
    "    ],\n",
    "    'total_messages': [100, 200, 150, 500, 120, 300, 400, 220, 450, 80, 600, 50],\n",
    "    'participant_count': [25, 55, 40, 100, 35, 50, 60, 45, 80, 15, 90, 10]\n",
    "}\n"
   ]
  },
  {
   "cell_type": "code",
   "execution_count": 5,
   "id": "c3bf50d4",
   "metadata": {},
   "outputs": [
    {
     "name": "stdout",
     "output_type": "stream",
     "text": [
      "    group_id created_date  total_messages  participant_count\n",
      "0          1   2024-10-01             100                 25\n",
      "1          2   2024-10-10             200                 55\n",
      "2          3   2024-11-05             150                 40\n",
      "3          4   2024-10-15             500                100\n",
      "4          5   2024-12-01             120                 35\n",
      "5          6   2024-10-20             300                 50\n",
      "6          7   2024-10-25             400                 60\n",
      "7          8   2024-11-10             220                 45\n",
      "8          9   2024-10-30             450                 80\n",
      "9         10   2024-12-15              80                 15\n",
      "10        11   2024-10-05             600                 90\n",
      "11        12   2024-10-12              50                 10\n"
     ]
    }
   ],
   "source": [
    "\n",
    "dim_groups = pd.DataFrame(data)\n",
    "print(dim_groups)\n"
   ]
  },
  {
   "cell_type": "markdown",
   "id": "6896360e",
   "metadata": {},
   "source": [
    "#### Q1. What is the maximum number of participants among WhatsApp groups that were created in October 2024? This metric will help us understand the largest group size available."
   ]
  },
  {
   "cell_type": "code",
   "execution_count": 7,
   "id": "1f88cc63",
   "metadata": {},
   "outputs": [
    {
     "name": "stdout",
     "output_type": "stream",
     "text": [
      "100\n"
     ]
    }
   ],
   "source": [
    "dim_groups['created_date'] = pd.to_datetime(dim_groups['created_date'])\n",
    "\n",
    "dim_groups['created_date'] = pd.to_datetime(dim_groups['created_date'])\n",
    "\n",
    "oct_data = dim_groups[ (dim_groups['created_date'].dt.year == 2024) \n",
    "                      & (dim_groups['created_date'].dt.month == 10)]\n",
    "\n",
    "max_participants = np.max(oct_data['participant_count'])\n",
    "print(max_participants)"
   ]
  },
  {
   "cell_type": "markdown",
   "id": "838457fa",
   "metadata": {},
   "source": [
    "#### Q2. What is the average number of participants in WhatsApp groups that were created in October 2024? This number will indicate the typical group size and inform our group messaging feature considerations."
   ]
  },
  {
   "cell_type": "code",
   "execution_count": 8,
   "id": "611a3e47",
   "metadata": {},
   "outputs": [
    {
     "name": "stdout",
     "output_type": "stream",
     "text": [
      "58.75\n"
     ]
    }
   ],
   "source": [
    "dim_groups['created_date'] = pd.to_datetime(dim_groups['created_date'])\n",
    "\n",
    "oct_data = dim_groups[ (dim_groups['created_date'].dt.year == 2024) \n",
    "                      & (dim_groups['created_date'].dt.month == 10)]\n",
    "\n",
    "avg_participants = np.mean(oct_data['participant_count'])\n",
    "print(avg_participants)"
   ]
  },
  {
   "cell_type": "markdown",
   "id": "822d3d85",
   "metadata": {},
   "source": [
    "#### Q3. For WhatsApp groups with more than 50 participants that were created in October 2024, what is the average number of messages sent? This insight will help assess engagement in larger groups and support recommendations for group messaging features."
   ]
  },
  {
   "cell_type": "code",
   "execution_count": 9,
   "id": "cae97e7b",
   "metadata": {},
   "outputs": [
    {
     "name": "stdout",
     "output_type": "stream",
     "text": [
      "430.0\n"
     ]
    }
   ],
   "source": [
    "dim_groups['created_date'] = pd.to_datetime(dim_groups['created_date'])\n",
    "\n",
    "oct_data = dim_groups[ (dim_groups['created_date'].dt.year == 2024) \n",
    "                      & (dim_groups['created_date'].dt.month == 10)\n",
    "                      & (dim_groups['participant_count'] > 50) ]\n",
    "\n",
    "\n",
    "avg_messages = np.mean(oct_data['total_messages'])\n",
    "print(avg_messages)"
   ]
  },
  {
   "cell_type": "markdown",
   "id": "0c9b9280",
   "metadata": {},
   "source": [
    "OR"
   ]
  },
  {
   "cell_type": "code",
   "execution_count": 15,
   "id": "3a5e2b01",
   "metadata": {},
   "outputs": [
    {
     "name": "stdout",
     "output_type": "stream",
     "text": [
      "430.0\n"
     ]
    }
   ],
   "source": [
    "dim_groups['created_date'] = pd.to_datetime(dim_groups['created_date'])\n",
    "\n",
    "oct_data = dim_groups[ (dim_groups['created_date'].dt.year == 2024) \n",
    "                      & (dim_groups['created_date'].dt.month == 10)\n",
    "                       ]\n",
    "# print(oct_data)\n",
    "\n",
    "oct_data_50 = oct_data[oct_data['participant_count'] > 50]\n",
    "# print(oct_data_50)\n",
    "\n",
    "avg_messages = np.mean(oct_data_50['total_messages'])\n",
    "print(avg_messages)"
   ]
  },
  {
   "cell_type": "markdown",
   "id": "eafe5007",
   "metadata": {},
   "source": [
    "Hurray completed on August 09, 2025"
   ]
  }
 ],
 "metadata": {
  "kernelspec": {
   "display_name": ".venv",
   "language": "python",
   "name": "python3"
  },
  "language_info": {
   "codemirror_mode": {
    "name": "ipython",
    "version": 3
   },
   "file_extension": ".py",
   "mimetype": "text/x-python",
   "name": "python",
   "nbconvert_exporter": "python",
   "pygments_lexer": "ipython3",
   "version": "3.10.11"
  }
 },
 "nbformat": 4,
 "nbformat_minor": 5
}
