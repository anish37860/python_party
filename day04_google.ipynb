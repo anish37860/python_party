{
 "cells": [
  {
   "cell_type": "markdown",
   "id": "46b39cee",
   "metadata": {},
   "source": [
    "Home page of Python Summer Party: [Link](https://www.interviewmaster.ai/python-party/home)\n",
    "\n",
    "Python Party Day04: Search results page: user interaction patterns [Link_to_problem](https://www.interviewmaster.ai/chat/136d4d02-3bda-4de7-98f1-0a44562caff3)\n",
    "\n",
    "Easy problem ⭐\n",
    "\n",
    "Tables\n",
    "\n",
    "`user_engagement_data(user_id, interaction_time, search_results_displayed, interaction_date)`"
   ]
  },
  {
   "cell_type": "markdown",
   "id": "69ee4a4b",
   "metadata": {},
   "source": [
    "#### Data"
   ]
  },
  {
   "cell_type": "code",
   "execution_count": 1,
   "id": "923c552e",
   "metadata": {},
   "outputs": [
    {
     "data": {
      "text/html": [
       "<div>\n",
       "<style scoped>\n",
       "    .dataframe tbody tr th:only-of-type {\n",
       "        vertical-align: middle;\n",
       "    }\n",
       "\n",
       "    .dataframe tbody tr th {\n",
       "        vertical-align: top;\n",
       "    }\n",
       "\n",
       "    .dataframe thead th {\n",
       "        text-align: right;\n",
       "    }\n",
       "</style>\n",
       "<table border=\"1\" class=\"dataframe\">\n",
       "  <thead>\n",
       "    <tr style=\"text-align: right;\">\n",
       "      <th></th>\n",
       "      <th>interaction_time</th>\n",
       "      <th>search_results_displayed</th>\n",
       "    </tr>\n",
       "  </thead>\n",
       "  <tbody>\n",
       "    <tr>\n",
       "      <th>count</th>\n",
       "      <td>56.000000</td>\n",
       "      <td>60.000000</td>\n",
       "    </tr>\n",
       "    <tr>\n",
       "      <th>mean</th>\n",
       "      <td>60.791071</td>\n",
       "      <td>12.250000</td>\n",
       "    </tr>\n",
       "    <tr>\n",
       "      <th>std</th>\n",
       "      <td>29.370952</td>\n",
       "      <td>5.555956</td>\n",
       "    </tr>\n",
       "    <tr>\n",
       "      <th>min</th>\n",
       "      <td>5.000000</td>\n",
       "      <td>5.000000</td>\n",
       "    </tr>\n",
       "    <tr>\n",
       "      <th>25%</th>\n",
       "      <td>36.625000</td>\n",
       "      <td>8.750000</td>\n",
       "    </tr>\n",
       "    <tr>\n",
       "      <th>50%</th>\n",
       "      <td>60.050000</td>\n",
       "      <td>10.000000</td>\n",
       "    </tr>\n",
       "    <tr>\n",
       "      <th>75%</th>\n",
       "      <td>82.750000</td>\n",
       "      <td>15.000000</td>\n",
       "    </tr>\n",
       "    <tr>\n",
       "      <th>max</th>\n",
       "      <td>150.000000</td>\n",
       "      <td>20.000000</td>\n",
       "    </tr>\n",
       "  </tbody>\n",
       "</table>\n",
       "</div>"
      ],
      "text/plain": [
       "       interaction_time  search_results_displayed\n",
       "count         56.000000                 60.000000\n",
       "mean          60.791071                 12.250000\n",
       "std           29.370952                  5.555956\n",
       "min            5.000000                  5.000000\n",
       "25%           36.625000                  8.750000\n",
       "50%           60.050000                 10.000000\n",
       "75%           82.750000                 15.000000\n",
       "max          150.000000                 20.000000"
      ]
     },
     "execution_count": 1,
     "metadata": {},
     "output_type": "execute_result"
    }
   ],
   "source": [
    "import pandas as pd\n",
    "\n",
    "data = {\n",
    "    \"user_id\": [\n",
    "        \"user_1\", \"user_2\", \"user_1\", \"user_3\", \"user_4\", \"user_5\", \"user_6\", \"user_7\", \"user_8\", \"user_9\",\n",
    "        \"user_10\", \"user_2\", \"user_11\", \"user_12\", \"user_13\", \"user_14\", \"user_15\", \"user_16\", \"user_17\", \"user_18\",\n",
    "        \"user_19\", \"user_20\", \"user_21\", \"user_22\", \"user_23\", \"user_24\", \"user_25\", \"user_26\", \"user_27\", \"user_28\",\n",
    "        \"user_29\", \"user_30\", \"user_31\", \"user_32\", \"user_33\", \"user_34\", \"user_35\", \"user_36\", \"user_37\", \"user_38\",\n",
    "        \"user_39\", \"user_40\", \"user_41\", \"user_42\", \"user_43\", \"user_44\", \"user_45\", \"user_46\", \"user_47\", \"user_48\",\n",
    "        \"user_49\", \"user_50\", \"user_51\", \"user_52\", \"user_53\", \"user_54\", \"user_55\", \"user_56\", \"user_57\", \"user_58\"\n",
    "    ],\n",
    "    \"interaction_date\": [\n",
    "        \"2024-07-05\", \"2024-07-10\", \"2024-07-05\", \"2024-08-01\", \"2024-08-15\", \"2024-09-05\", \"2024-10-10\", \"2024-11-20\", \"2024-12-31\", \"2025-01-15\",\n",
    "        \"2025-02-20\", \"2024-07-10\", \"2025-03-01\", \"2025-03-05\", \"2025-03-10\", \"2025-03-15\", \"2025-03-20\", \"2025-03-25\", \"2025-04-01\", \"2025-04-05\",\n",
    "        \"2025-04-10\", \"2025-04-15\", \"2025-04-20\", \"2025-04-25\", \"2025-04-30\", \"2025-05-05\", \"2025-05-10\", \"2025-05-15\", \"2025-05-20\", \"2025-05-25\",\n",
    "        \"2025-06-01\", \"2025-06-05\", \"2025-06-10\", \"2025-06-15\", \"2025-06-20\", \"2025-06-25\", \"2025-06-29\", \"2025-06-30\", \"2024-07-15\", \"2024-07-20\",\n",
    "        \"2024-08-05\", \"2024-08-10\", \"2024-08-15\", \"2024-08-20\", \"2024-09-01\", \"2024-09-05\", \"2024-09-10\", \"2024-09-15\", \"2024-09-20\", \"2024-09-25\",\n",
    "        \"2024-10-01\", \"2024-10-05\", \"2024-10-10\", \"2024-10-15\", \"2024-10-20\", \"2024-10-25\", \"2024-10-30\", \"2024-11-01\", \"2024-11-05\", \"2024-11-10\"\n",
    "    ],\n",
    "    \"interaction_time\": [\n",
    "        35.5, 22.3, 35.5, 48, None, 60.2, 12, 80, 55, 75.5,\n",
    "        30, 22.3, 92.5, 15, 45.3, 5, 68, 110, 29.9, 150,\n",
    "        33.3, 25, 40, 85.5, None, 55.5, 65, 70, 95, 50,\n",
    "        88, 42, 37, 82, 20, 90, 77, 66.6, 100, 110.5,\n",
    "        35, 59.9, 47.3, None, 68.5, 72.7, 55.5, 62, 40, 85,\n",
    "        95, 33.3, 44.4, 88.8, 76.5, 90, None, 101, 59, 66\n",
    "    ],\n",
    "    \"search_results_displayed\": [\n",
    "        10, 5, 10, 15, 20, 10, 5, 15, 20, 10,\n",
    "        5, 5, 10, 15, 20, 5, 10, 15, 20, 10,\n",
    "        5, 15, 20, 10, 5, 15, 20, 10, 5, 15,\n",
    "        20, 10, 5, 15, 20, 10, 5, 15, 20, 10,\n",
    "        5, 15, 20, 10, 5, 15, 20, 10, 5, 15,\n",
    "        20, 10, 5, 15, 20, 10, 5, 15, 20, 10\n",
    "    ]\n",
    "}\n",
    "\n",
    "user_engagement_data = pd.DataFrame(data)\n",
    "user_engagement_data.describe()"
   ]
  },
  {
   "cell_type": "markdown",
   "id": "52870ec3",
   "metadata": {},
   "source": [
    "#### Q1. Identify and remove any duplicate entries in the dataset to ensure data quality. How many duplicates were found and removed?"
   ]
  },
  {
   "cell_type": "markdown",
   "id": "2628a7aa",
   "metadata": {},
   "source": [
    "##### Submitted Code"
   ]
  },
  {
   "cell_type": "code",
   "execution_count": 2,
   "id": "25266468",
   "metadata": {},
   "outputs": [
    {
     "name": "stdout",
     "output_type": "stream",
     "text": [
      "Duplicates found: 2\n",
      "Duplicates removed: 2\n"
     ]
    }
   ],
   "source": [
    "# Count duplicates\n",
    "duplicates_count = user_engagement_data.duplicated().sum()\n",
    "print(f\"Duplicates found: {duplicates_count}\")\n",
    "\n",
    "# Remove duplicates\n",
    "user_engagement_data = user_engagement_data.drop_duplicates()\n",
    "print(f\"Duplicates removed: {duplicates_count}\")\n"
   ]
  },
  {
   "cell_type": "markdown",
   "id": "6d4dec3b",
   "metadata": {},
   "source": [
    "#### Q2. After dropping duplicates, aggregate the data to find the average user interaction time for each number of search results displayed per page. What are the average interaction times?"
   ]
  },
  {
   "cell_type": "code",
   "execution_count": 3,
   "id": "b91e9bd2",
   "metadata": {},
   "outputs": [
    {
     "data": {
      "text/html": [
       "<div>\n",
       "<style scoped>\n",
       "    .dataframe tbody tr th:only-of-type {\n",
       "        vertical-align: middle;\n",
       "    }\n",
       "\n",
       "    .dataframe tbody tr th {\n",
       "        vertical-align: top;\n",
       "    }\n",
       "\n",
       "    .dataframe thead th {\n",
       "        text-align: right;\n",
       "    }\n",
       "</style>\n",
       "<table border=\"1\" class=\"dataframe\">\n",
       "  <thead>\n",
       "    <tr style=\"text-align: right;\">\n",
       "      <th></th>\n",
       "      <th>user_id</th>\n",
       "      <th>interaction_date</th>\n",
       "      <th>interaction_time</th>\n",
       "      <th>search_results_displayed</th>\n",
       "    </tr>\n",
       "  </thead>\n",
       "  <tbody>\n",
       "    <tr>\n",
       "      <th>0</th>\n",
       "      <td>user_1</td>\n",
       "      <td>2024-07-05</td>\n",
       "      <td>35.5</td>\n",
       "      <td>10</td>\n",
       "    </tr>\n",
       "    <tr>\n",
       "      <th>1</th>\n",
       "      <td>user_2</td>\n",
       "      <td>2024-07-10</td>\n",
       "      <td>22.3</td>\n",
       "      <td>5</td>\n",
       "    </tr>\n",
       "    <tr>\n",
       "      <th>3</th>\n",
       "      <td>user_3</td>\n",
       "      <td>2024-08-01</td>\n",
       "      <td>48.0</td>\n",
       "      <td>15</td>\n",
       "    </tr>\n",
       "    <tr>\n",
       "      <th>4</th>\n",
       "      <td>user_4</td>\n",
       "      <td>2024-08-15</td>\n",
       "      <td>NaN</td>\n",
       "      <td>20</td>\n",
       "    </tr>\n",
       "    <tr>\n",
       "      <th>5</th>\n",
       "      <td>user_5</td>\n",
       "      <td>2024-09-05</td>\n",
       "      <td>60.2</td>\n",
       "      <td>10</td>\n",
       "    </tr>\n",
       "  </tbody>\n",
       "</table>\n",
       "</div>"
      ],
      "text/plain": [
       "  user_id interaction_date  interaction_time  search_results_displayed\n",
       "0  user_1       2024-07-05              35.5                        10\n",
       "1  user_2       2024-07-10              22.3                         5\n",
       "3  user_3       2024-08-01              48.0                        15\n",
       "4  user_4       2024-08-15               NaN                        20\n",
       "5  user_5       2024-09-05              60.2                        10"
      ]
     },
     "execution_count": 3,
     "metadata": {},
     "output_type": "execute_result"
    }
   ],
   "source": [
    "user_engagement_data.head()"
   ]
  },
  {
   "cell_type": "markdown",
   "id": "6c4dc8d9",
   "metadata": {},
   "source": [
    "##### Submitted Code "
   ]
  },
  {
   "cell_type": "code",
   "execution_count": 4,
   "id": "32657875",
   "metadata": {},
   "outputs": [
    {
     "name": "stdout",
     "output_type": "stream",
     "text": [
      "   search_results_displayed  interaction_time\n",
      "0                         5         41.625000\n",
      "1                        10         75.400000\n",
      "2                        15         67.107143\n",
      "3                        20         59.730769\n"
     ]
    }
   ],
   "source": [
    "\n",
    "user_engagement_data = user_engagement_data.drop_duplicates()\n",
    "\n",
    "\n",
    "# groups by values in the column search_results_displayed and take values in column interaction_time to find mean.\n",
    "avg_interaction_times = (\n",
    "    user_engagement_data\n",
    "    .groupby('search_results_displayed', as_index=False)['interaction_time']\n",
    "    .mean()\n",
    ")\n",
    "\n",
    "print(avg_interaction_times)"
   ]
  },
  {
   "cell_type": "markdown",
   "id": "74908659",
   "metadata": {},
   "source": [
    "#### Q3. Sort the aggregated results from Q2 to determine which number of search results per page has the highest average user interaction time. What is the optimal number of search results per page?"
   ]
  },
  {
   "cell_type": "markdown",
   "id": "d55f572f",
   "metadata": {},
   "source": [
    "##### Submitted Code"
   ]
  },
  {
   "cell_type": "code",
   "execution_count": 5,
   "id": "1964ccae",
   "metadata": {},
   "outputs": [
    {
     "name": "stdout",
     "output_type": "stream",
     "text": [
      "   search_results_displayed  interaction_time\n",
      "1                        10         75.400000\n",
      "2                        15         67.107143\n",
      "3                        20         59.730769\n",
      "0                         5         41.625000\n"
     ]
    }
   ],
   "source": [
    "sorted_avg_times = avg_interaction_times.sort_values(\n",
    "    by='interaction_time', \n",
    "    ascending=False\n",
    ")\n",
    "\n",
    "print(sorted_avg_times)"
   ]
  },
  {
   "cell_type": "markdown",
   "id": "3af35277",
   "metadata": {},
   "source": [
    "#### Completed on August 12, 2025"
   ]
  }
 ],
 "metadata": {
  "kernelspec": {
   "display_name": ".venv",
   "language": "python",
   "name": "python3"
  },
  "language_info": {
   "codemirror_mode": {
    "name": "ipython",
    "version": 3
   },
   "file_extension": ".py",
   "mimetype": "text/x-python",
   "name": "python",
   "nbconvert_exporter": "python",
   "pygments_lexer": "ipython3",
   "version": "3.10.11"
  }
 },
 "nbformat": 4,
 "nbformat_minor": 5
}
